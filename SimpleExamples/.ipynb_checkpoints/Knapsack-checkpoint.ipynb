{
 "cells": [
  {
   "cell_type": "code",
   "execution_count": 4,
   "metadata": {},
   "outputs": [],
   "source": [
    "import numpy as np\n",
    "import pandas as pd"
   ]
  },
  {
   "cell_type": "code",
   "execution_count": 5,
   "metadata": {},
   "outputs": [],
   "source": [
    "# Solve using knapsack."
   ]
  },
  {
   "cell_type": "code",
   "execution_count": 6,
   "metadata": {},
   "outputs": [],
   "source": [
    "ProgramDetails = {}\n",
    "ProgramDetails['program'] = ['A','B','C','D','E','F','G','H','I','J']\n",
    "ProgramDetails['benefit'] = [59.2,31.4,15.7,30,105.1,11.6,67.3,2.3,23.2,18.4]\n",
    "ProgramDetails['cost']    = [2.8,1.7,1,3.2,15.2,2.4,16,.7,9.4,10.1]"
   ]
  },
  {
   "cell_type": "code",
   "execution_count": 7,
   "metadata": {},
   "outputs": [],
   "source": [
    "# Total available budget.\n",
    "budget = 34"
   ]
  },
  {
   "cell_type": "code",
   "execution_count": 10,
   "metadata": {},
   "outputs": [],
   "source": [
    "programFunding = pd.DataFrame( ProgramDetails )"
   ]
  },
  {
   "cell_type": "code",
   "execution_count": 66,
   "metadata": {},
   "outputs": [],
   "source": [
    "### Recursive approach\n",
    "weight   = ProgramDetails['cost']\n",
    "value    = ProgramDetails['benefit']\n",
    "capacity = budget"
   ]
  },
  {
   "cell_type": "code",
   "execution_count": 67,
   "metadata": {},
   "outputs": [
    {
     "data": {
      "text/plain": [
       "[2.8, 1.7, 1, 3.2, 15.2, 2.4, 16, 0.7, 9.4, 10.1]"
      ]
     },
     "execution_count": 67,
     "metadata": {},
     "output_type": "execute_result"
    }
   ],
   "source": [
    "weight"
   ]
  },
  {
   "cell_type": "code",
   "execution_count": 68,
   "metadata": {},
   "outputs": [
    {
     "data": {
      "text/plain": [
       "[59.2, 31.4, 15.7, 30, 105.1, 11.6, 67.3, 2.3, 23.2, 18.4]"
      ]
     },
     "execution_count": 68,
     "metadata": {},
     "output_type": "execute_result"
    }
   ],
   "source": [
    "value"
   ]
  },
  {
   "cell_type": "code",
   "execution_count": 69,
   "metadata": {},
   "outputs": [],
   "source": [
    "n = 10"
   ]
  },
  {
   "cell_type": "code",
   "execution_count": 81,
   "metadata": {},
   "outputs": [],
   "source": [
    "def KnapsackRecurse( capacity, weight, value, n ):\n",
    "    \n",
    "    if n == 0:\n",
    "        return(0)\n",
    "    \n",
    "    if (weight[n-1] > capacity): \n",
    "        return KnapsackRecurse(capacity, weight, value, n-1) \n",
    "    \n",
    "    else:\n",
    "        return max( value[n-1] + KnapsackRecurse( capacity-weight[n-1], weight, value, n-1),\n",
    "                       KnapsackRecurse( capacity, weight, value, n-1 ) )"
   ]
  },
  {
   "cell_type": "code",
   "execution_count": 82,
   "metadata": {},
   "outputs": [
    {
     "data": {
      "text/plain": [
       "266.90000000000003"
      ]
     },
     "execution_count": 82,
     "metadata": {},
     "output_type": "execute_result"
    }
   ],
   "source": [
    "KnapsackRecurse( capacity, weight, value, n )"
   ]
  },
  {
   "cell_type": "code",
   "execution_count": null,
   "metadata": {},
   "outputs": [],
   "source": []
  }
 ],
 "metadata": {
  "kernelspec": {
   "display_name": "Python 3",
   "language": "python",
   "name": "python3"
  },
  "language_info": {
   "codemirror_mode": {
    "name": "ipython",
    "version": 3
   },
   "file_extension": ".py",
   "mimetype": "text/x-python",
   "name": "python",
   "nbconvert_exporter": "python",
   "pygments_lexer": "ipython3",
   "version": "3.7.4"
  }
 },
 "nbformat": 4,
 "nbformat_minor": 2
}
