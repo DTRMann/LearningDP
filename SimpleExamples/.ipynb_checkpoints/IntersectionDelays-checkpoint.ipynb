{
 "cells": [
  {
   "cell_type": "code",
   "execution_count": null,
   "metadata": {},
   "outputs": [],
   "source": [
    "# Implementation of example starting on page 1: https://web.mit.edu/15.053/www/AMP-Chapter-11.pdf"
   ]
  },
  {
   "cell_type": "code",
   "execution_count": null,
   "metadata": {},
   "outputs": [],
   "source": [
    "import numpy as np"
   ]
  },
  {
   "cell_type": "code",
   "execution_count": 7,
   "metadata": {},
   "outputs": [],
   "source": [
    "delays = np.array( [ [2,3,6,3,3,8],\n",
    "                     [5,6,5,9,5,2],\n",
    "                     [7,7,2,6,7,6],\n",
    "                     [4,3,6,3,9,5],\n",
    "                     [5,9,3,3,1,5],\n",
    "                     [6,4,9,2,3,3] ])"
   ]
  },
  {
   "cell_type": "code",
   "execution_count": 103,
   "metadata": {},
   "outputs": [],
   "source": [
    "# Create transition array that indicates the different paths and intersection delays, by destination row.\n",
    "# There are 11 transitions per column (intersections * 2 - 1).\n",
    "\n",
    "# Creates transition array for intersections where the last commuter only has one intersection as an option.\n",
    "transitions = []\n",
    "startRow = 0\n",
    "transPerCol = delays.shape[0] + delays.shape[1] - 1\n",
    "\n",
    "for trans in range( transPerCol ):\n",
    "    rem = trans % 2\n",
    "    # When remainder is 0, start a new commuter. Each unique curTrans list corresponds to a different commuter. \n",
    "    if( rem == 0  ):\n",
    "        commuter = []\n",
    "    # A commuter's first intersection is the same as the previous commuters second.\n",
    "    # Increment the start row by 1 every other iteration to reflect this.\n",
    "    startRow = startRow + (trans % 2)\n",
    "    commuter.append(startRow)\n",
    "    # Add each complete commuter. Commuters are complete after either two intersections, or if it is the first\n",
    "    # or last commuter, which can only move to once intersection\n",
    "    if( rem == 1 or trans == transPerCol - 1 ):\n",
    "        transitions.append(commuter)"
   ]
  },
  {
   "cell_type": "code",
   "execution_count": 104,
   "metadata": {},
   "outputs": [
    {
     "data": {
      "text/plain": [
       "[[0, 1], [1, 2], [2, 3], [3, 4], [4, 5], [5]]"
      ]
     },
     "execution_count": 104,
     "metadata": {},
     "output_type": "execute_result"
    }
   ],
   "source": [
    "transitions"
   ]
  },
  {
   "cell_type": "code",
   "execution_count": null,
   "metadata": {},
   "outputs": [],
   "source": []
  }
 ],
 "metadata": {
  "kernelspec": {
   "display_name": "Python 3",
   "language": "python",
   "name": "python3"
  },
  "language_info": {
   "codemirror_mode": {
    "name": "ipython",
    "version": 3
   },
   "file_extension": ".py",
   "mimetype": "text/x-python",
   "name": "python",
   "nbconvert_exporter": "python",
   "pygments_lexer": "ipython3",
   "version": "3.7.4"
  }
 },
 "nbformat": 4,
 "nbformat_minor": 2
}
