{
 "cells": [
  {
   "cell_type": "code",
   "execution_count": 1,
   "metadata": {},
   "outputs": [],
   "source": [
    "# Implementation of example starting on page 1: https://web.mit.edu/15.053/www/AMP-Chapter-11.pdf"
   ]
  },
  {
   "cell_type": "code",
   "execution_count": 2,
   "metadata": {},
   "outputs": [],
   "source": [
    "import numpy as np"
   ]
  },
  {
   "cell_type": "code",
   "execution_count": 3,
   "metadata": {},
   "outputs": [],
   "source": [
    "delays = np.array( [ [2,3,6,3,3,8],\n",
    "                     [5,6,5,9,5,2],\n",
    "                     [7,7,2,6,7,6],\n",
    "                     [4,3,6,3,9,5],\n",
    "                     [5,9,3,3,1,5],\n",
    "                     [6,4,9,2,3,3] ])"
   ]
  },
  {
   "cell_type": "code",
   "execution_count": 4,
   "metadata": {},
   "outputs": [],
   "source": [
    "# Create transition array that indicates the different paths and intersection delays, by destination row.\n",
    "# There are 11 transitions per column (intersections * 2 - 1). Works for an arbitrary-length rectangle.\n",
    "\n",
    "# Creates transition array for intersections where the last commuter only has one intersection as an option.\n",
    "def CreateTransitionsOddCol( delays ):\n",
    "\n",
    "    transitions = []\n",
    "    startRow = 0\n",
    "    transPerCol = delays.shape[0] + delays.shape[1] - 1\n",
    "    \n",
    "    for trans in range( transPerCol ):\n",
    "        rem = trans % 2\n",
    "        # When remainder is 0, start a new commuter. Each unique curTrans list corresponds to a different commuter. \n",
    "        if( rem == 0  ):\n",
    "            commuter = []\n",
    "        # A commuter's first intersection is the same as the previous commuters second.\n",
    "        # Increment the start row by 1 every other iteration to reflect this.\n",
    "        startRow = startRow + (trans % 2)\n",
    "        commuter.append(startRow)\n",
    "        # Add each complete commuter. Commuters are complete after either two intersections, or if it is the first\n",
    "        # or last commuter, which can only move to once intersection\n",
    "        if( rem == 1 or trans == transPerCol - 1 ):\n",
    "            transitions.append(commuter)\n",
    "    \n",
    "    return(transitions)\n",
    "\n",
    "# Creates transition array for intersections where the first commuter only has one intersection as an option.\n",
    "def CreateTransitionsEvenCol( delays ):\n",
    "\n",
    "    transitions = []\n",
    "    startRow = 0\n",
    "    transPerCol = delays.shape[0] + delays.shape[1]\n",
    "\n",
    "    for trans in range( 1, transPerCol ):\n",
    "        rem = trans % 2\n",
    "        # When remainder is 0, start a new commuter. Each unique curTrans list corresponds to a different commuter. \n",
    "        if( rem == 0 or trans == 1  ):\n",
    "            commuter = []\n",
    "        # A commuter's first intersection is the same as the previous commuters second.\n",
    "        # Increment the start row by 1 every other iteration to reflect this.\n",
    "        startRow = startRow + (trans % 2)\n",
    "        commuter.append(startRow)\n",
    "        # Add each complete commuter. Commuters are complete after either two intersections, or if it is the first\n",
    "        # or last commuter, which can only move to once intersection\n",
    "        if( rem == 1 or trans == 1 ):\n",
    "            transitions.append(commuter)\n",
    "            \n",
    "    return(transitions)"
   ]
  },
  {
   "cell_type": "code",
   "execution_count": 48,
   "metadata": {},
   "outputs": [],
   "source": [
    "# Determines, based on available options, whether a specific optimal choice is up, down, or over.\n",
    "def DetermineDirection( options, directionInd ):\n",
    "    if len(options) == 1:\n",
    "        direction = 'over'\n",
    "    elif len(options) == 2 and directionInd == 0:\n",
    "        direction = 'up'\n",
    "    elif len(options) == 2 and directionInd == 1:\n",
    "        direction = 'down'\n",
    "        \n",
    "    return(direction)"
   ]
  },
  {
   "cell_type": "code",
   "execution_count": 5,
   "metadata": {},
   "outputs": [
    {
     "data": {
      "text/plain": [
       "[[0, 1], [1, 2], [2, 3], [3, 4], [4, 5], [5]]"
      ]
     },
     "execution_count": 5,
     "metadata": {},
     "output_type": "execute_result"
    }
   ],
   "source": [
    "CreateTransitionsOddCol(delays)"
   ]
  },
  {
   "cell_type": "code",
   "execution_count": 6,
   "metadata": {},
   "outputs": [],
   "source": [
    "# Start with the last intersection before the parking lot."
   ]
  },
  {
   "cell_type": "code",
   "execution_count": 7,
   "metadata": {},
   "outputs": [],
   "source": [
    "transitions = CreateTransitionsOddCol(delays)"
   ]
  },
  {
   "cell_type": "code",
   "execution_count": 8,
   "metadata": {},
   "outputs": [],
   "source": [
    "# Column that corresponds to the current intersection.\n",
    "curIntersectionInd = len(delays) - 1"
   ]
  },
  {
   "cell_type": "code",
   "execution_count": 10,
   "metadata": {},
   "outputs": [
    {
     "data": {
      "text/plain": [
       "8"
      ]
     },
     "execution_count": 10,
     "metadata": {},
     "output_type": "execute_result"
    }
   ],
   "source": [
    "delays[0][curIntersectionInd]"
   ]
  },
  {
   "cell_type": "code",
   "execution_count": 12,
   "metadata": {},
   "outputs": [],
   "source": [
    "curIntersectionInd = np.array( [ row[curIntersectionInd] for row in delays ] )"
   ]
  },
  {
   "cell_type": "code",
   "execution_count": 51,
   "metadata": {},
   "outputs": [],
   "source": [
    "Cost = list()\n",
    "Choices = list()\n",
    "Directions = list()\n",
    "\n",
    "for curRow in range(len(transitions)):\n",
    "    \n",
    "    options = curIntersectionInd[list(transitions[curRow])]\n",
    "    choice = min(options)\n",
    "    directionInd = list(options).index(choice)\n",
    "    \n",
    "    direction = DetermineDirection( options, directionInd )\n",
    "    \n",
    "    Cost.append(choice)\n",
    "    Directions.append(direction)"
   ]
  },
  {
   "cell_type": "code",
   "execution_count": 52,
   "metadata": {},
   "outputs": [
    {
     "name": "stdout",
     "output_type": "stream",
     "text": [
      "['down', 'up', 'down', 'up', 'down', 'over']\n"
     ]
    }
   ],
   "source": [
    "print(Directions)"
   ]
  },
  {
   "cell_type": "code",
   "execution_count": 53,
   "metadata": {},
   "outputs": [
    {
     "name": "stdout",
     "output_type": "stream",
     "text": [
      "[2, 2, 5, 5, 3, 3]\n"
     ]
    }
   ],
   "source": [
    "print(Cost)"
   ]
  },
  {
   "cell_type": "code",
   "execution_count": null,
   "metadata": {},
   "outputs": [],
   "source": []
  }
 ],
 "metadata": {
  "kernelspec": {
   "display_name": "Python 3",
   "language": "python",
   "name": "python3"
  },
  "language_info": {
   "codemirror_mode": {
    "name": "ipython",
    "version": 3
   },
   "file_extension": ".py",
   "mimetype": "text/x-python",
   "name": "python",
   "nbconvert_exporter": "python",
   "pygments_lexer": "ipython3",
   "version": "3.7.4"
  }
 },
 "nbformat": 4,
 "nbformat_minor": 2
}
