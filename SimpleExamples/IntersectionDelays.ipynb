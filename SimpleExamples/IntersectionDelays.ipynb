{
 "cells": [
  {
   "cell_type": "code",
   "execution_count": 1,
   "metadata": {},
   "outputs": [],
   "source": [
    "# Implementation of example starting on page 1: https://web.mit.edu/15.053/www/AMP-Chapter-11.pdf"
   ]
  },
  {
   "cell_type": "code",
   "execution_count": 3,
   "metadata": {},
   "outputs": [],
   "source": [
    "import numpy as np"
   ]
  },
  {
   "cell_type": "code",
   "execution_count": 4,
   "metadata": {},
   "outputs": [],
   "source": [
    "delays = np.array( [ [2,3,6,3,3,8],\n",
    "                     [5,6,5,9,5,2],\n",
    "                     [7,7,2,6,7,6],\n",
    "                     [4,3,6,3,9,5],\n",
    "                     [5,9,3,3,1,5],\n",
    "                     [6,4,9,2,3,3] ])"
   ]
  },
  {
   "cell_type": "code",
   "execution_count": 51,
   "metadata": {},
   "outputs": [],
   "source": [
    "# Create transition array that indicates the different paths and intersection delays, by destination row.\n",
    "# There are 11 transitions per column (intersections * 2 - 1). Works for an arbitrary-length rectangle.\n",
    "\n",
    "# Creates transition array for intersections where the last commuter only has one intersection as an option.\n",
    "def CreateTransitionsOddCol( delays ):\n",
    "\n",
    "    transitions = []\n",
    "    startRow = 0\n",
    "    transPerCol = delays.shape[0] + delays.shape[1] - 1\n",
    "    \n",
    "    for trans in range( transPerCol ):\n",
    "        rem = trans % 2\n",
    "        # When remainder is 0, start a new commuter. Each unique curTrans list corresponds to a different commuter. \n",
    "        if( rem == 0  ):\n",
    "            commuter = []\n",
    "        # A commuter's first intersection is the same as the previous commuters second.\n",
    "        # Increment the start row by 1 every other iteration to reflect this.\n",
    "        startRow = startRow + (trans % 2)\n",
    "        commuter.append(startRow)\n",
    "        # Add each complete commuter. Commuters are complete after either two intersections, or if it is the first\n",
    "        # or last commuter, which can only move to once intersection\n",
    "        if( rem == 1 or trans == transPerCol - 1 ):\n",
    "            transitions.append(commuter)\n",
    "    \n",
    "    return(transitions)\n",
    "\n",
    "# Creates transition array for intersections where the first commuter only has one intersection as an option.\n",
    "def CreateTransitionsEvenCol( delays ):\n",
    "\n",
    "    transitions = []\n",
    "    startRow = 0\n",
    "    transPerCol = delays.shape[0] + delays.shape[1]\n",
    "\n",
    "    for trans in range( 0, transPerCol - 1 ):\n",
    "        rem = trans % 2\n",
    "        \n",
    "        # Handle first entry where commuter can only go to row 0.\n",
    "        if( trans == 0 ):\n",
    "            transitions.append([0])\n",
    "            commuter = [0]\n",
    "            continue\n",
    "        \n",
    "        # When remainder is 0, start a new commuter. Each unique curTrans list corresponds to a different commuter. \n",
    "        if( rem == 0 ):\n",
    "            commuter = []\n",
    "        # A commuter's first intersection is the same as the previous commuters second.\n",
    "        # Increment the start row by 1 every other iteration to reflect this.\n",
    "        startRow = startRow + (trans % 2)\n",
    "        commuter.append(startRow)\n",
    "        # Add each complete commuter. Commuters are complete after either two intersections, or if it is the first\n",
    "        # or last commuter, which can only move to once intersection\n",
    "        if( rem == 1 or trans == 0 ):\n",
    "            transitions.append(commuter)\n",
    "            \n",
    "    return(transitions)"
   ]
  },
  {
   "cell_type": "code",
   "execution_count": 52,
   "metadata": {},
   "outputs": [],
   "source": [
    "# Determines, based on available options, whether a specific optimal choice is up, down, or over.\n",
    "def DetermineDirection( options, directionInd ):\n",
    "    if len(options) == 1:\n",
    "        direction = 'over'\n",
    "    elif len(options) == 2 and directionInd == 0:\n",
    "        direction = 'up'\n",
    "    elif len(options) == 2 and directionInd == 1:\n",
    "        direction = 'down'\n",
    "        \n",
    "    return(direction)"
   ]
  },
  {
   "cell_type": "code",
   "execution_count": 53,
   "metadata": {},
   "outputs": [],
   "source": [
    "# Determines the minimum delay at each intersection for each commuter.\n",
    "# transitions: nested list of options available to each commuter\n",
    "# curIntersection: list of delays at the current intersection.\n",
    "def FindMinimumDelays( transitions, curIntersection ):\n",
    "\n",
    "    Cost = list()\n",
    "    Directions = list()\n",
    "\n",
    "    for curRow in range(len(transitions)):\n",
    "    \n",
    "        options = curIntersection[list(transitions[curRow])]\n",
    "        choice = min(options)\n",
    "        directionInd = list(options).index(choice)\n",
    "    \n",
    "        direction = DetermineDirection( options, directionInd )\n",
    "    \n",
    "        Cost.append(choice)\n",
    "        Directions.append(direction)\n",
    "        \n",
    "    return( Cost, Directions )"
   ]
  },
  {
   "cell_type": "code",
   "execution_count": 54,
   "metadata": {},
   "outputs": [],
   "source": [
    "# Backwards induction engine that determines the optimal path, working back from the final parking lots.\n",
    "def DetermineOptimalPath(transitions):\n",
    "    \n",
    "    # Loop backwards through intersection indices.\n",
    "    lastIntersection  = len(delays) - 1\n",
    "    firstIntersection = 0\n",
    "\n",
    "    TotalCost = list()\n",
    "    OptimalDirections = list()\n",
    "\n",
    "    for curIntersectionInd in range(lastIntersection, firstIntersection -1, -1):\n",
    "    \n",
    "        curIntersection = np.array( [ row[curIntersectionInd] for row in delays ] )\n",
    "    \n",
    "        if curIntersectionInd % 2 == 1:\n",
    "            transitions = CreateTransitionsOddCol(delays)\n",
    "        if curIntersectionInd % 2 == 0:\n",
    "            transitions = CreateTransitionsEvenCol(delays)\n",
    "        \n",
    "        cost, directions = FindMinimumDelays( transitions, curIntersection )\n",
    "        TotalCost.append(cost)\n",
    "        OptimalDirections.append(directions)\n",
    "        \n",
    "    return( TotalCost, OptimalDirections )"
   ]
  },
  {
   "cell_type": "code",
   "execution_count": 55,
   "metadata": {},
   "outputs": [],
   "source": [
    "# Start with the last intersection before the parking lot."
   ]
  },
  {
   "cell_type": "code",
   "execution_count": 56,
   "metadata": {},
   "outputs": [
    {
     "data": {
      "text/plain": [
       "([[2, 2, 5, 5, 3, 3],\n",
       "  [3, 3, 5, 7, 1, 1],\n",
       "  [3, 6, 3, 3, 2, 2],\n",
       "  [6, 5, 2, 2, 3, 3],\n",
       "  [3, 6, 3, 3, 4, 4],\n",
       "  [2, 2, 5, 4, 4, 5]],\n",
       " [['down', 'up', 'down', 'up', 'down', 'over'],\n",
       "  ['over', 'up', 'up', 'up', 'down', 'up'],\n",
       "  ['up', 'down', 'down', 'up', 'down', 'over'],\n",
       "  ['over', 'down', 'down', 'up', 'down', 'up'],\n",
       "  ['up', 'up', 'down', 'up', 'down', 'over'],\n",
       "  ['over', 'up', 'up', 'down', 'up', 'up']])"
      ]
     },
     "execution_count": 56,
     "metadata": {},
     "output_type": "execute_result"
    }
   ],
   "source": [
    "DetermineOptimalPath(transitions)"
   ]
  },
  {
   "cell_type": "code",
   "execution_count": null,
   "metadata": {},
   "outputs": [],
   "source": []
  }
 ],
 "metadata": {
  "kernelspec": {
   "display_name": "Python 3",
   "language": "python",
   "name": "python3"
  },
  "language_info": {
   "codemirror_mode": {
    "name": "ipython",
    "version": 3
   },
   "file_extension": ".py",
   "mimetype": "text/x-python",
   "name": "python",
   "nbconvert_exporter": "python",
   "pygments_lexer": "ipython3",
   "version": "3.7.4"
  }
 },
 "nbformat": 4,
 "nbformat_minor": 2
}
