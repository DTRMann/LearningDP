{
 "cells": [
  {
   "cell_type": "code",
   "execution_count": 4,
   "metadata": {},
   "outputs": [],
   "source": [
    "import numpy as np\n",
    "import pandas as pd"
   ]
  },
  {
   "cell_type": "code",
   "execution_count": 5,
   "metadata": {},
   "outputs": [],
   "source": [
    "# Solve using knapsack."
   ]
  },
  {
   "cell_type": "code",
   "execution_count": 6,
   "metadata": {},
   "outputs": [],
   "source": [
    "ProgramDetails = {}\n",
    "ProgramDetails['program'] = ['A','B','C','D','E','F','G','H','I','J']\n",
    "ProgramDetails['benefit'] = [59.2,31.4,15.7,30,105.1,11.6,67.3,2.3,23.2,18.4]\n",
    "ProgramDetails['cost']    = [2.8,1.7,1,3.2,15.2,2.4,16,.7,9.4,10.1]"
   ]
  },
  {
   "cell_type": "code",
   "execution_count": 7,
   "metadata": {},
   "outputs": [],
   "source": [
    "# Total available budget.\n",
    "budget = 34"
   ]
  },
  {
   "cell_type": "code",
   "execution_count": 10,
   "metadata": {},
   "outputs": [],
   "source": [
    "programFunding = pd.DataFrame( ProgramDetails )"
   ]
  },
  {
   "cell_type": "code",
   "execution_count": 83,
   "metadata": {},
   "outputs": [],
   "source": [
    "### Recursive approach\n",
    "weight   = ProgramDetails['cost']\n",
    "value    = ProgramDetails['benefit']\n",
    "capacity = budget\n",
    "n = len(weight)"
   ]
  },
  {
   "cell_type": "code",
   "execution_count": 84,
   "metadata": {},
   "outputs": [
    {
     "data": {
      "text/plain": [
       "10"
      ]
     },
     "execution_count": 84,
     "metadata": {},
     "output_type": "execute_result"
    }
   ],
   "source": [
    "n"
   ]
  },
  {
   "cell_type": "code",
   "execution_count": 85,
   "metadata": {},
   "outputs": [],
   "source": [
    "def KnapsackRecurse( capacity, weight, value, n ):\n",
    "    \n",
    "    if n == 0:\n",
    "        return(0)\n",
    "    \n",
    "    if (weight[n-1] > capacity): \n",
    "        return KnapsackRecurse(capacity, weight, value, n-1) \n",
    "    \n",
    "    else:\n",
    "        return max( value[n-1] + KnapsackRecurse( capacity-weight[n-1], weight, value, n-1),\n",
    "                       KnapsackRecurse( capacity, weight, value, n-1 ) )"
   ]
  },
  {
   "cell_type": "code",
   "execution_count": 86,
   "metadata": {},
   "outputs": [
    {
     "data": {
      "text/plain": [
       "266.90000000000003"
      ]
     },
     "execution_count": 86,
     "metadata": {},
     "output_type": "execute_result"
    }
   ],
   "source": [
    "KnapsackRecurse( capacity, weight, value, n )"
   ]
  },
  {
   "cell_type": "code",
   "execution_count": 140,
   "metadata": {},
   "outputs": [],
   "source": [
    "capacity = 6\n",
    "weight   = [ 1, 2, 3 ]\n",
    "value    = [ 10, 15, 40 ]\n",
    "n        = len(value)"
   ]
  },
  {
   "cell_type": "code",
   "execution_count": 131,
   "metadata": {},
   "outputs": [],
   "source": [
    "D = np.array( [[0 for col in range(capacity + 1)] for row in range(len(weight) + 1)] )"
   ]
  },
  {
   "cell_type": "code",
   "execution_count": 132,
   "metadata": {},
   "outputs": [
    {
     "data": {
      "text/plain": [
       "array([[0, 0, 0, 0, 0, 0, 0],\n",
       "       [0, 0, 0, 0, 0, 0, 0],\n",
       "       [0, 0, 0, 0, 0, 0, 0],\n",
       "       [0, 0, 0, 0, 0, 0, 0]])"
      ]
     },
     "execution_count": 132,
     "metadata": {},
     "output_type": "execute_result"
    }
   ],
   "source": [
    "D"
   ]
  },
  {
   "cell_type": "code",
   "execution_count": 146,
   "metadata": {},
   "outputs": [],
   "source": [
    "for i in range(n + 1):\n",
    "    for w in range(capacity + 1):\n",
    "        if i == 0 or w == 0:\n",
    "            D[i][w] = 0\n",
    "        elif weight[i-1] <= w:\n",
    "            D[i][w] = max( D[i-1][w], value[i-1] + D[i-1][w-weight[i-1]] )\n",
    "        else:\n",
    "            D[i][w] = D[i-1][w] "
   ]
  },
  {
   "cell_type": "code",
   "execution_count": 148,
   "metadata": {},
   "outputs": [
    {
     "data": {
      "text/plain": [
       "array([[ 0,  0,  0,  0,  0,  0,  0],\n",
       "       [ 0, 10, 10, 10, 10, 10, 10],\n",
       "       [ 0, 10, 15, 25, 25, 25, 25],\n",
       "       [ 0, 10, 15, 40, 50, 55, 65]])"
      ]
     },
     "execution_count": 148,
     "metadata": {},
     "output_type": "execute_result"
    }
   ],
   "source": [
    "# Do manually to make sure I understand\n",
    "D"
   ]
  },
  {
   "cell_type": "code",
   "execution_count": 165,
   "metadata": {},
   "outputs": [
    {
     "data": {
      "text/plain": [
       "3"
      ]
     },
     "execution_count": 165,
     "metadata": {},
     "output_type": "execute_result"
    }
   ],
   "source": [
    "# Fill in the last row\n",
    "i"
   ]
  },
  {
   "cell_type": "code",
   "execution_count": 156,
   "metadata": {},
   "outputs": [
    {
     "name": "stdout",
     "output_type": "stream",
     "text": [
      "0\n",
      "0\n",
      "40   25 \n",
      "\n",
      "1\n",
      "10\n",
      "40   25 \n",
      "\n",
      "2\n",
      "15\n",
      "40   25 \n",
      "\n",
      "3\n",
      "25\n",
      "40   0 \n",
      "\n",
      "4\n",
      "25\n",
      "40   10 \n",
      "\n",
      "5\n",
      "25\n",
      "40   15 \n",
      "\n",
      "6\n",
      "25\n",
      "40   25 \n",
      "\n"
     ]
    }
   ],
   "source": [
    "for w in range( capacity + 1 ):\n",
    "    print(w)\n",
    "    print( D[i-1][w] )\n",
    "    print( value[i-1], ' ', D[i-1][w-weight[i-1]], '\\n' )"
   ]
  },
  {
   "cell_type": "code",
   "execution_count": null,
   "metadata": {},
   "outputs": [],
   "source": [
    "# "
   ]
  }
 ],
 "metadata": {
  "kernelspec": {
   "display_name": "Python 3",
   "language": "python",
   "name": "python3"
  },
  "language_info": {
   "codemirror_mode": {
    "name": "ipython",
    "version": 3
   },
   "file_extension": ".py",
   "mimetype": "text/x-python",
   "name": "python",
   "nbconvert_exporter": "python",
   "pygments_lexer": "ipython3",
   "version": "3.7.4"
  }
 },
 "nbformat": 4,
 "nbformat_minor": 2
}
